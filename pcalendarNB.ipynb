{
 "cells": [
  {
   "cell_type": "markdown",
   "metadata": {},
   "source": [
    "# Perpetual Calendar\n",
    "\n",
    "A perpetual calendar is a calendar designed to be valid for many years, usually designed to look up the day of the week for a given date in the future. \n",
    "\n",
    "__Algorithm__:\n",
    "\n",
    "* A year is a leap year if it is divisible by 4, unless the year is divisible by 100, in which case the year must also be divisible by 400. In other words, the years 1996, 2000, 2004, 2008, 2012, 2016, and 2020 are all leap years. However, the years 1700, 1900, and 2100 are not leap years. The first set of years are all divisible by 4, and the only year that is divisible by 100 (2000) is also divisible by 400. The second set of years are all divisible by 100, but none of them are divisible by 400."
   ]
  },
  {
   "cell_type": "code",
   "execution_count": null,
   "metadata": {
    "tags": [
     "=>L"
    ]
   },
   "outputs": [
    {
     "name": "stdout",
     "output_type": "stream",
     "text": [
      "False\n",
      "True\n",
      "True\n",
      "False\n",
      "False\n",
      "True\n"
     ]
    }
   ],
   "source": [
    "# This imports all the functions in your file so that they can be used in the notebook.\n",
    "from pcalendar import *\n",
    "\n",
    "print(is_leap(1900)) #should print False\n",
    "print(is_leap(2000)) #should print True\n",
    "print(is_leap(2004)) #should print True\n",
    "print(is_leap(2005)) #should print False\n",
    "print(is_leap(2100)) #should print False\n",
    "print(is_leap(2400)) #should print True"
   ]
  },
  {
   "cell_type": "markdown",
   "metadata": {
    "deletable": false,
    "editable": false
   },
   "source": [
    "In the next two steps, `magic_month` & `day_of_year` functions will be written to determine the day of the year that a date falls on. For instance, January 1 is the first day of the year. December 31 is the 365th day of the year, but the 366th day in a leap year. \n",
    "\n",
    "The first step in creating this function is to create a helper function. This helper function will be called `magic_month` and it is designed to return the number of days that have gone by in a year on the first of any month (assuming it's not a leap year). For instance, on January 1, zero days have gone by in the year so far. On February 1, 31 days have gone by (because January has 31 days). On March 1, 59 days have gone by (the 31 days of January, plus the 28 days of February, assuming it's not a leap year).\n",
    "\n",
    "The `magic_month` function takes a parameter called `month`, that will be the integer representing a month (1=January, 2=February, and so on). This function should return the number of days gone by since the beginning of the year. Here's a table of what to return:\n",
    "```\n",
    "January (Month #1):     0\n",
    "February (Month #2):   31\n",
    "March (Month #3):      59\n",
    "April (Month #4):      90\n",
    "May (Month #5):       120\n",
    "June (Month #6):      151\n",
    "July (Month #7):      181\n",
    "August (Month #8):    212\n",
    "September (Month #9): 243\n",
    "October (Month #10):  273\n",
    "November (Month #11): 304\n",
    "December (Month #12): 334\n",
    "```"
   ]
  },
  {
   "cell_type": "code",
   "execution_count": 2,
   "metadata": {
    "tags": [
     "=>L"
    ]
   },
   "outputs": [
    {
     "name": "stdout",
     "output_type": "stream",
     "text": [
      "0\n",
      "31\n",
      "181\n",
      "243\n",
      "304\n"
     ]
    }
   ],
   "source": [
    "from pcalendar import *\n",
    "print(magic_month(1))  #should print 0\n",
    "print(magic_month(2))  #should print 31\n",
    "print(magic_month(7))  #should print 181\n",
    "print(magic_month(9))  #should print 243\n",
    "print(magic_month(11)) #should print 304"
   ]
  },
  {
   "cell_type": "markdown",
   "metadata": {
    "deletable": false,
    "editable": false
   },
   "source": [
    "Now, a function called `day_of_year` will be written. That function takes three integer parameters: a month (1-12), a day (1-31), and a year (any year is possible). This function should return the day of year (1-366) that this date occurs on.\n",
    "\n",
    "First, we need to find if the year is a leap year or not by calling the `is_leap` function on the year and capturing the return value. Next, getting the appropriate `magic_month` value for the month. The formula for finding the day of the year is quite simple:\n",
    "\n",
    "__The day of the year is the `magic_month` number plus the day of the month. If this year is a leap year and the month is March or later, add one to this result.__\n",
    "\n",
    "Example: Suppose we call `day_of_year(7, 29, 2019)` to calculate the day of the year for July 29, 2019. 2019 is not a leap year, and the magic_month number for July (month #7) is 181. So the day of the year here is 181 + 29, which is 210."
   ]
  },
  {
   "cell_type": "code",
   "execution_count": 3,
   "metadata": {
    "tags": [
     "=>L"
    ]
   },
   "outputs": [
    {
     "name": "stdout",
     "output_type": "stream",
     "text": [
      "210\n",
      "102\n",
      "365\n",
      "30\n"
     ]
    }
   ],
   "source": [
    "from pcalendar import *\n",
    "\n",
    "print(day_of_year(7, 29, 2019))  #should print 210\n",
    "print(day_of_year(4, 11, 2016))  #should print 102\n",
    "print(day_of_year(12, 31, 2100)) #should print 365\n",
    "print(day_of_year(1, 30, 2016))  #should print 30"
   ]
  },
  {
   "cell_type": "markdown",
   "metadata": {
    "deletable": false,
    "editable": false
   },
   "source": [
    "```\n",
    "Sunday: 0\n",
    "Monday: 1\n",
    "Tuesday: 2\n",
    "Wednesday: 3\n",
    "Thursday: 4\n",
    "Friday: 5\n",
    "Saturday: 6\n",
    "```\n",
    "\n",
    "The next function is called `new_years_day` that will calculate the day of the week number (from the table above) for any January 1 in history. Here's how it works. The steps are:\n",
    "\n",
    "* Start with the year in question.\n",
    "* Add the quotient that results from dividing the year by 4. \n",
    "* Subtract the quotient that results from dividing the year by 100.\n",
    "* Add the quotient that results from dividing the year by 400.\n",
    "* If your year is a leap year (call `is_leap` function!) subtract 1.\n",
    "* Divide this number by 7 and take the remainder (use the percent/modulus operator). This final number is your day of the week number (the value to return).\n",
    "\n",
    "Let's do an example. Suppose we want to find the day of the week for New Year's Day 2019.\n",
    "* Begin with 2019.\n",
    "* Add in 2019 // 4, which is 504. 2019 + 504 = 2523.\n",
    "* Subtract 2019 // 100, which is 20. 2523 - 20 = 2503.\n",
    "* Add in 2019 // 400, which is 5. 2503 + 5 = 2508.\n",
    "* 2019 is not a leap year (so the number doesn't change).\n",
    "* 2508 % 7 is 2, which means 2019 began on a Tuesday (you can verify this on a calendar!)."
   ]
  },
  {
   "cell_type": "code",
   "execution_count": 4,
   "metadata": {
    "tags": [
     "=>L"
    ]
   },
   "outputs": [
    {
     "name": "stdout",
     "output_type": "stream",
     "text": [
      "1\n",
      "2\n",
      "3\n",
      "5\n",
      "1\n"
     ]
    }
   ],
   "source": [
    "from pcalendar import *\n",
    "\n",
    "print(new_years_day(1900)) #should print 1\n",
    "print(new_years_day(2019)) #should print 2\n",
    "print(new_years_day(2020)) #should print 3\n",
    "print(new_years_day(2021)) #should print 5\n",
    "print(new_years_day(2024)) #should print 1"
   ]
  },
  {
   "cell_type": "markdown",
   "metadata": {
    "deletable": false,
    "editable": false
   },
   "source": [
    "The function `day_of_week` is now to be written. This function takes three parameters: the month (1-12), the day of the month (1-31), and the year. This function will finally compute the day of the week for any day of any year! Here's how it works. Call `day_of_year` function, passing in the month, day, and year parameters; and then `new_years_day` function, passing in the year parameter. If you add those values together, subtract one, divide the result by 7, and take the remainder, the day of the week (as an integer!). Return this integer value.\n",
    "\n",
    "Here's an example. Let's find the day of the week for July 29, 2019. We already know that `day_of_year(7, 29, 2019)` returns 210, and `new_years_day(2019)` returns 2. If we add these together and subtract 1, we get 210 + 2 - 1 = 211. 211 % 7 is 1, which means July 29, 2019 falls on a Monday (check it on a calendar if you want!)."
   ]
  },
  {
   "cell_type": "code",
   "execution_count": 5,
   "metadata": {
    "tags": [
     "=>L"
    ]
   },
   "outputs": [
    {
     "name": "stdout",
     "output_type": "stream",
     "text": [
      "1\n",
      "3\n",
      "1\n",
      "5\n",
      "3\n"
     ]
    }
   ],
   "source": [
    "from pcalendar import *\n",
    "\n",
    "print(day_of_week(7, 29, 2019))  #should print 1\n",
    "print(day_of_week(7, 4, 1900))   #should print 3\n",
    "print(day_of_week(2, 14, 2000))  #should print 1\n",
    "print(day_of_week(12, 25, 2020)) #should print 5\n",
    "print(day_of_week(10, 4, 2023))  #should print 3"
   ]
  },
  {
   "cell_type": "markdown",
   "metadata": {
    "deletable": false,
    "editable": false
   },
   "source": [
    "Now, one more function called `day_of_week_str` will be written. It does the same operation as `day_of_week`, except the answer is returned as a string (like \"Sunday\", \"Monday\", etc). This function takes three parameters: the month (1-12), the day of the month (1-31), and the year. Here's how it works. Simply call day_of_week, passing in the same three parameters you are given here."
   ]
  },
  {
   "cell_type": "code",
   "execution_count": 6,
   "metadata": {
    "tags": [
     "=>L"
    ]
   },
   "outputs": [
    {
     "name": "stdout",
     "output_type": "stream",
     "text": [
      "Monday\n",
      "Friday\n",
      "Wednesday\n",
      "Tuesday\n"
     ]
    }
   ],
   "source": [
    "from pcalendar import *\n",
    "\n",
    "print(day_of_week_str(7, 29, 2019))  #should print Monday\n",
    "print(day_of_week_str(12, 25, 2020)) #should print Friday\n",
    "print(day_of_week_str(10, 4, 2023))  #should print Wednesday\n",
    "print(day_of_week_str(10, 31, 2056)) #should print Tuesday"
   ]
  },
  {
   "cell_type": "markdown",
   "metadata": {
    "deletable": false,
    "editable": false
   },
   "source": [
    "* `day_of_year` should call `is_leap` and `magic_month`.\n",
    "* `new_years_day` should call `is_leap`.\n",
    "* `day_of_week` should call `day_of_year` and `new_years_day`.\n",
    "* `day_of_week_str` should call `day_of_week`.\n",
    "\n",
    "The main function does the following:\n",
    "* Ask the user for three integers: the month, day of the month, and year. (This can be any month/day/year combination the user wants.)\n",
    "* Compute and print the day of the year for this month/day/year. Do this by calling your `day_of_year` function.\n",
    "* Compute and print the day of the week for this month/day/year. Do this by calling your `day_of_week_str` function.\n",
    "* Compute and print the day of the week for user's month and day, but for the year 2020. Do this by calling your `day_of_week_str` function.\n",
    "* Compute and print the day of the week for New Year's Day on the user's year. Do this by calling your `day_of_week_str` function.\n",
    "\n",
    "Test the program using the examples below. Here's a sample run:\n",
    "```\n",
    "Pick a date, any date (such as your birthday!)\n",
    "What is the month? (1-12)? 11\n",
    "What is the day? 21\n",
    "What is the year? 1981\n",
    "This is day number 325 of the year.\n",
    "This date falls on a Saturday.\n",
    "In 2020, this date falls on a Saturday.\n",
    "In 1981, New Year's Day falls on a Thursday.\n",
    "```"
   ]
  },
  {
   "cell_type": "markdown",
   "metadata": {
    "deletable": false,
    "editable": false
   },
   "source": [
    "__Example run__\n",
    "```\n",
    "Pick a date, any date (such as your birthday!)\n",
    "What is the month? (1-12)? 7\n",
    "What is the day? 29\n",
    "What is the year? 1982\n",
    "This is day number 210 of the year.\n",
    "This date falls on a Thursday.\n",
    "In 2020, this date falls on a Wednesday.\n",
    "In 1982, New Year's Day falls on a Friday.\n",
    "Would you like to pick another date? (y for yes): y\n",
    "\n",
    "Pick a date, any date (such as your birthday!)\n",
    "What is the month? (1-12)? 11\n",
    "What is the day? 21\n",
    "What is the year? 1981\n",
    "This is day number 325 of the year.\n",
    "This date falls on a Saturday.\n",
    "In 2020, this date falls on a Saturday.\n",
    "In 1981, New Year's Day falls on a Thursday.\n",
    "Would you like to pick another date? (y for yes): y\n",
    "\n",
    "Pick a date, any date (such as your birthday!)\n",
    "What is the month? (1-12)? 2\n",
    "What is the day? 14\n",
    "What is the year? 2019\n",
    "This is day number 45 of the year.\n",
    "This date falls on a Thursday.\n",
    "In 2020, this date falls on a Friday.\n",
    "In 2019, New Year's Day falls on a Tuesday.\n",
    "Would you like to pick another date? (y for yes): n\n",
    "```"
   ]
  },
  {
   "cell_type": "code",
   "execution_count": null,
   "metadata": {
    "deletable": false,
    "editable": false
   },
   "outputs": [
    {
     "name": "stdout",
     "output_type": "stream",
     "text": [
      "\n",
      "Pick any date! (Maybe your birthday)\n",
      "This is day number 325 of the year.\n",
      "This day falls on a Saturday\n",
      "In 2020, this date falls on a Saturday\n",
      "In 1981, New Year's day falls on a Thursday\n",
      "Thanksgiving falls on the 26 of that year\n",
      "Thanks for using the perpetual calendar!\n"
     ]
    }
   ],
   "source": [
    "%run pcalendar.py"
   ]
  }
 ],
 "metadata": {
  "kernelspec": {
   "display_name": "Python 3",
   "language": "python",
   "name": "python3"
  },
  "language_info": {
   "codemirror_mode": {
    "name": "ipython",
    "version": 3
   },
   "file_extension": ".py",
   "mimetype": "text/x-python",
   "name": "python",
   "nbconvert_exporter": "python",
   "pygments_lexer": "ipython3",
   "version": "3.12.7"
  },
  "varInspector": {
   "cols": {
    "lenName": 16,
    "lenType": 16,
    "lenVar": 40
   },
   "kernels_config": {
    "python": {
     "delete_cmd_postfix": "",
     "delete_cmd_prefix": "del ",
     "library": "var_list.py",
     "varRefreshCmd": "print(var_dic_list())"
    },
    "r": {
     "delete_cmd_postfix": ") ",
     "delete_cmd_prefix": "rm(",
     "library": "var_list.r",
     "varRefreshCmd": "cat(var_dic_list()) "
    }
   },
   "types_to_exclude": [
    "module",
    "function",
    "builtin_function_or_method",
    "instance",
    "_Feature"
   ],
   "window_display": false
  }
 },
 "nbformat": 4,
 "nbformat_minor": 2
}
